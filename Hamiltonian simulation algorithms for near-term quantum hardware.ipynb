{
 "cells": [
  {
   "cell_type": "markdown",
   "metadata": {},
   "source": [
    "# Hamiltonian simulation algorithms for near-term quantum hardware"
   ]
  },
  {
   "cell_type": "markdown",
   "metadata": {},
   "source": [
    "## Problem: Find explicit gate count for near-term simulations"
   ]
  },
  {
   "cell_type": "markdown",
   "metadata": {},
   "source": [
    "- subscircuits: programming below the circuit model\n",
    "- non-asymptotic Trotter bounds\n",
    "- optimal fermion encoding"
   ]
  },
  {
   "cell_type": "markdown",
   "metadata": {},
   "source": [
    "## Sub-Circuit Model"
   ]
  },
  {
   "cell_type": "markdown",
   "metadata": {},
   "source": [
    "assumption: hardware can perform CNOT, Z, H, ... gates"
   ]
  },
  {
   "cell_type": "markdown",
   "metadata": {},
   "source": [
    "real hardware: voltages, lasers, ..."
   ]
  },
  {
   "cell_type": "markdown",
   "metadata": {},
   "source": [
    "-> gates add a layer of abstraction -> overhead"
   ]
  },
  {
   "cell_type": "markdown",
   "metadata": {},
   "source": [
    "quantum circuit: $ C = \\prod_{l}^{L} U_{l}V_{j} $"
   ]
  },
  {
   "cell_type": "markdown",
   "metadata": {},
   "source": [
    "with $U_{l} = \\prod_{i \\in Q} u_{i}^{l}$ a layer of arbitrary single qubit unitary gates"
   ]
  },
  {
   "cell_type": "markdown",
   "metadata": {},
   "source": [
    "with $V_{l} = \\prod_{i j \\in \\Gamma} v_{i j} (t_{ij}^{l})$ a layer of non-overlapping, variable time, two-qubit gates"
   ]
  },
  {
   "cell_type": "markdown",
   "metadata": {},
   "source": [
    "$v_{in}(t) = e^{ith_{ij}}, h_{ij} = Z_{i}Z_{j}$"
   ]
  },
  {
   "cell_type": "markdown",
   "metadata": {},
   "source": [
    "since $ \\sigma_{i}\\sigma_{j} = Z_{i}Z_{j} $ up to single qubit rotations, we use $h_{ij} = \\sigma_{i}\\sigma_{j}$"
   ]
  },
  {
   "cell_type": "markdown",
   "metadata": {},
   "source": [
    "## Sub-Circuit Synthesis"
   ]
  },
  {
   "cell_type": "markdown",
   "metadata": {},
   "source": [
    "analytic pulse sequence identities used to decompose local Trotter steps $e^{-i\\delta h}$"
   ]
  },
  {
   "cell_type": "markdown",
   "metadata": {},
   "source": [
    "we can simulate a k-qubit Pauli gate with a sub-circuit $ C = \\prod_{l}^{L} U_{l}V_{j} $"
   ]
  },
  {
   "cell_type": "markdown",
   "metadata": {},
   "source": [
    "$ U(t) = e^{itH} $ time-evolution operator under a Hamiltonian $ H = \\frac{1}{2i}[h_{1}, h_{2}] $ where $h_{1}$ and $h_{2}$ anti-commute"
   ]
  },
  {
   "cell_type": "raw",
   "metadata": {},
   "source": []
  }
 ],
 "metadata": {
  "kernelspec": {
   "display_name": "Python 3",
   "language": "python",
   "name": "python3"
  },
  "language_info": {
   "codemirror_mode": {
    "name": "ipython",
    "version": 3
   },
   "file_extension": ".py",
   "mimetype": "text/x-python",
   "name": "python",
   "nbconvert_exporter": "python",
   "pygments_lexer": "ipython3",
   "version": "3.7.6"
  }
 },
 "nbformat": 4,
 "nbformat_minor": 4
}
