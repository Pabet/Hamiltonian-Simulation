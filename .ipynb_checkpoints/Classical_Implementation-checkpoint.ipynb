{
 "cells": [
  {
   "cell_type": "markdown",
   "metadata": {},
   "source": [
    "# Classical approach"
   ]
  },
  {
   "cell_type": "markdown",
   "metadata": {},
   "source": [
    "sources: \\\n",
    "    - https://python.plainenglish.io/simulation-of-quantum-particles-with-python-and-qiskit-cfa656bb8773 \\\n",
    "    - https://www.youtube.com/watch?v=o96K8fkOrG8"
   ]
  },
  {
   "cell_type": "markdown",
   "metadata": {},
   "source": [
    "## Approach using classical algorithm\n",
    "1) Apply a half step of the potential propagator to $\\psi(0)$\\\n",
    "2) Apply the Fourier transform -> momentum basis\\\n",
    "3) Apply a full step of the kinetic propagator on the momentum basis\\\n",
    "4) Apply the Inverse Fourier transform -> back to coordinate basis\\\n",
    "5) Apply the second half step of the potential propagator\n",
    "\n",
    "these five steps define the algorithm for Hamiltonian simulation which will be used as benchmark for the \n",
    "optimized approach from the paper"
   ]
  },
  {
   "cell_type": "markdown",
   "metadata": {},
   "source": [
    "using scipy.linalg.exmp to directly compute the matrix exponential H"
   ]
  },
  {
   "cell_type": "code",
   "execution_count": 14,
   "metadata": {},
   "outputs": [],
   "source": [
    "from matplotlib import animation, rc, pyplot as plt\n",
    "from IPython.display import HTML\n",
    "import numpy as np\n",
    "from utils import *\n",
    "\n",
    "import warnings\n",
    "\n",
    "warnings.simplefilter(\"ignore\", np.ComplexWarning)"
   ]
  },
  {
   "cell_type": "code",
   "execution_count": 15,
   "metadata": {},
   "outputs": [],
   "source": [
    "'''constants'''\n",
    "N=500 #number of grid points\n",
    "hbar=1 #reduced plancks constant\n",
    "dt=0.5 #delta t, or the time step\n",
    "m=1 #mass of particle in au\n"
   ]
  },
  {
   "cell_type": "code",
   "execution_count": 16,
   "metadata": {},
   "outputs": [],
   "source": [
    "'''spatial grid'''\n",
    "xMin=0\n",
    "xMax=500\n",
    "x=np.linspace(xMin, xMax, N)\n",
    "\n",
    "'''momentum grid'''\n",
    "p=np.arange(-N/2, N/2)*((2*np.pi*hbar)/(N*((xMax-xMin)/(N-1))))"
   ]
  },
  {
   "cell_type": "code",
   "execution_count": 17,
   "metadata": {},
   "outputs": [],
   "source": [
    "'''wavefunction: guassian wavepacket'''\n",
    "k0=m/2 #initial momentum\n",
    "x0=xMax/2 #initial position\n",
    "sigma=(xMax-xMin)/30 #width\n",
    "psi=(1/(sigma*np.sqrt(2*np.pi)))*np.exp(-.5*((x-x0)/sigma)**2)*np.exp(1j*k0*x)"
   ]
  },
  {
   "cell_type": "code",
   "execution_count": 18,
   "metadata": {},
   "outputs": [],
   "source": [
    "'''potential operator+propogator'''\n",
    "Vhat=np.zeros_like(x) #free particle\n",
    "Vhat[0:1]=1 #add well between x=[400,499] (optional)\n",
    "Vprop=np.exp(-1j*dt*Vhat/(2*hbar)) #half step"
   ]
  },
  {
   "cell_type": "code",
   "execution_count": 19,
   "metadata": {},
   "outputs": [],
   "source": [
    "'''kinetic operator+propogator'''\n",
    "That=p**2/(2*m)\n",
    "Tprop=np.exp(-1j*dt*That/hbar)"
   ]
  },
  {
   "cell_type": "code",
   "execution_count": 21,
   "metadata": {},
   "outputs": [],
   "source": [
    "'''animate'''\n",
    "# First set up the figure, the axis, and the plot element we want to animate\n",
    "fig, ax = plt.subplots()\n",
    "plt.close()\n",
    "\n",
    "### parameters for plot\n",
    "\n",
    "ax.set_xlim(( 0, 500))\n",
    "ax.set_ylim((-0.001, 0.001))\n",
    "line, = ax.plot([], [], lw=2)\n",
    "lineV, = ax.plot([], [], lw=2)\n",
    "\n",
    "# initialization function: plot the background of each frame\n",
    "\n",
    "def init():  \n",
    "    line.set_data([], [])  \n",
    "    lineV.set_data([], [])\n",
    "    return (line, lineV,)\n",
    "\n",
    "def animate(i):   \n",
    "    psi=splitOperator(psi, Vprop, Tprop)  \n",
    "    line.set_data(x, np.conj(psi)*psi)  \n",
    "    lineV.set_data(x, Vhat)  \n",
    "    return(line, lineV,)\n",
    "\n",
    "anim = animation.FuncAnimation(fig, animate, init_func=init,frames=400, interval=10, blit=True)\n",
    "\n",
    "# Note: below is the part which makes it work on Colab\n",
    "\n",
    "rc('animation', html='jshtml')\n",
    "\n",
    "'''animate'''\n",
    "# First set up the figure, the axis, and the plot element we want to animate\n",
    "fig, ax = plt.subplots()\n",
    "plt.close()\n",
    "\n",
    "### parameters for plot\n",
    "\n",
    "ax.set_xlim(( 0, 500))\n",
    "ax.set_ylim((-0.001, 0.001))\n",
    "line, = ax.plot([], [], lw=2)\n",
    "lineV, = ax.plot([], [], lw=2)\n",
    "\n",
    "# initialization function: plot the background of each frame\n",
    "\n",
    "def init():  \n",
    "    line.set_data([], [])  \n",
    "    lineV.set_data([], [])\n",
    "    return (line, lineV,)\n",
    "\n",
    "def animate(i):  \n",
    "    global psi  \n",
    "    psi=splitOperator(psi, Vprop, Tprop)  \n",
    "    line.set_data(x, np.conj(psi)*psi)  \n",
    "    lineV.set_data(x, Vhat)  \n",
    "    return(line, lineV,)\n",
    "\n",
    "anim = animation.FuncAnimation(fig, animate, init_func=init,frames=400, interval=10, blit=True)\n",
    "rc('animation', html='jshtml')\n",
    "anim\n",
    "\n",
    "f = r\"c://Users/Patrick/Desktop/animation.gif\" \n",
    "writergif = animation.PillowWriter(fps=30) \n",
    "anim.save(f, writer=writergif)\n",
    "\n"
   ]
  },
  {
   "cell_type": "code",
   "execution_count": null,
   "metadata": {},
   "outputs": [],
   "source": []
  },
  {
   "cell_type": "code",
   "execution_count": null,
   "metadata": {},
   "outputs": [],
   "source": []
  }
 ],
 "metadata": {
  "kernelspec": {
   "display_name": "Python 3",
   "language": "python",
   "name": "python3"
  },
  "language_info": {
   "codemirror_mode": {
    "name": "ipython",
    "version": 3
   },
   "file_extension": ".py",
   "mimetype": "text/x-python",
   "name": "python",
   "nbconvert_exporter": "python",
   "pygments_lexer": "ipython3",
   "version": "3.7.6"
  }
 },
 "nbformat": 4,
 "nbformat_minor": 4
}
