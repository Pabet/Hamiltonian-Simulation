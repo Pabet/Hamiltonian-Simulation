{
 "cells": [
  {
   "cell_type": "markdown",
   "metadata": {},
   "source": [
    "## Implementation"
   ]
  },
  {
   "cell_type": "markdown",
   "metadata": {},
   "source": [
    "### benchmark: $e^{iH\\delta t}$ using scipy.linalg.expm"
   ]
  },
  {
   "cell_type": "code",
   "execution_count": 2,
   "metadata": {},
   "outputs": [],
   "source": [
    "import numpy as np\n",
    "from scipy.linalg import expm, sinm, cosm"
   ]
  },
  {
   "cell_type": "markdown",
   "metadata": {},
   "source": [
    "we want to implement the Himiltonian $H = Z_1 \\otimes Z_2 \\otimes Z_3 \\otimes Z_4$"
   ]
  },
  {
   "cell_type": "markdown",
   "metadata": {},
   "source": [
    "the simulated circuit is therefore represented by $e^{itZ^{\\otimes 4}}$"
   ]
  },
  {
   "cell_type": "code",
   "execution_count": 49,
   "metadata": {},
   "outputs": [
    {
     "name": "stdout",
     "output_type": "stream",
     "text": [
      "[0 0 0 1 0 0 0 0 0 0 0 0 0 0 0 0]\n",
      "[0. 0. 0. 1. 0. 0. 0. 0. 0. 0. 0. 0. 0. 0. 0. 0.]\n"
     ]
    }
   ],
   "source": [
    "q0 = np.array([1, 0])\n",
    "q1 = np.array([1, 0]) \n",
    "q2 = np.array([0, 1])\n",
    "q3 = np.array([0, 1])\n",
    "\n",
    "y0 = np.kron(np.kron(np.kron(q0, q1), q2), q3)\n",
    "print(y0)\n",
    "\n",
    "Z = np.array([[1., 0.], [0., -1.]])\n",
    "\n",
    "t = 1.086 \n",
    "\n",
    "H = np.kron(np.kron(np.kron(Z, Z), Z), Z)\n",
    "\n",
    "result = np.abs(np.dot(expm(1j * t * H), y0))**2\n",
    "print(result)"
   ]
  },
  {
   "cell_type": "markdown",
   "metadata": {},
   "source": [
    "### implementation using the subcircuit model"
   ]
  },
  {
   "cell_type": "code",
   "execution_count": null,
   "metadata": {},
   "outputs": [],
   "source": []
  }
 ],
 "metadata": {
  "kernelspec": {
   "display_name": "Python 3",
   "language": "python",
   "name": "python3"
  },
  "language_info": {
   "codemirror_mode": {
    "name": "ipython",
    "version": 3
   },
   "file_extension": ".py",
   "mimetype": "text/x-python",
   "name": "python",
   "nbconvert_exporter": "python",
   "pygments_lexer": "ipython3",
   "version": "3.7.6"
  }
 },
 "nbformat": 4,
 "nbformat_minor": 4
}
