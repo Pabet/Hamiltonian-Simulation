{
 "cells": [
  {
   "cell_type": "markdown",
   "metadata": {},
   "source": [
    "# Hamiltonian Simulation in Python "
   ]
  },
  {
   "cell_type": "markdown",
   "metadata": {},
   "source": [
    "$\\newcommand{\\braket}[2]{\\left\\langle{#1}\\middle|{#2}\\right\\rangle}$\n",
    "$\\newcommand{\\ket}[1]{\\left|#1\\right>}$\n",
    "implement the evolution of a quantum state efficiently"
   ]
  },
  {
   "cell_type": "markdown",
   "metadata": {},
   "source": [
    "## Hamiltonian"
   ]
  },
  {
   "cell_type": "markdown",
   "metadata": {},
   "source": [
    "\"The Hamiltonian of a system is the sum of the kinetic energies of all the particles, plus the potential energy of the particles associated with the system\""
   ]
  },
  {
   "cell_type": "markdown",
   "metadata": {},
   "source": [
    "\"The Hamiltonian generates the time evolution of quantum states\""
   ]
  },
  {
   "cell_type": "markdown",
   "metadata": {},
   "source": [
    "Problem statement:"
   ]
  },
  {
   "cell_type": "markdown",
   "metadata": {},
   "source": [
    "\"Given a description of a Hamiltonian H, and evolution time t, some initial state $\\ket{\\psi(0)}$ produce the final state $\\ket{\\psi(t)}$ (to some error $\\epsilon$)\""
   ]
  },
  {
   "cell_type": "markdown",
   "metadata": {},
   "source": [
    "- a classical computer can't store the state efficiently"
   ]
  },
  {
   "cell_type": "markdown",
   "metadata": {},
   "source": [
    "- a classical computer cannot produce a complete description of the state"
   ]
  },
  {
   "cell_type": "markdown",
   "metadata": {},
   "source": [
    "... because we suppose that the quantum state is loaded into memory"
   ]
  },
  {
   "cell_type": "markdown",
   "metadata": {},
   "source": [
    "QIP2021 Tutorial: Quantum algorithms (Andrew Childs)"
   ]
  },
  {
   "cell_type": "markdown",
   "metadata": {},
   "source": [
    "## Schrödinger equation"
   ]
  },
  {
   "cell_type": "markdown",
   "metadata": {},
   "source": [
    "if $\\ket{\\psi(t)}$ is the state of the system at time t, then "
   ]
  },
  {
   "cell_type": "markdown",
   "metadata": {},
   "source": [
    "$ H |\\psi(t) = i \\hbar \\frac{\\delta}{\\delta t} \\ket{\\psi(t)} $"
   ]
  },
  {
   "cell_type": "markdown",
   "metadata": {},
   "source": [
    "if $H$ is dependent on time we can write by integrating both sides:"
   ]
  },
  {
   "cell_type": "markdown",
   "metadata": {},
   "source": [
    "$ \\ket{\\psi(t)} = e^{-iHt/\\hbar} \\ket{\\psi(0)}$"
   ]
  },
  {
   "cell_type": "markdown",
   "metadata": {},
   "source": [
    "$ U = e^{-iHt/\\hbar}$ is a unitary operator"
   ]
  },
  {
   "cell_type": "markdown",
   "metadata": {},
   "source": [
    "$ H $ represents the total energy of the system. Therefore we can break it down into potential and kinetic energy"
   ]
  },
  {
   "cell_type": "markdown",
   "metadata": {},
   "source": [
    "$E_{kin} = \\frac{1}{2} m v^2$ with the momentum $ p = mv, v = \\frac{p}{m} $"
   ]
  },
  {
   "cell_type": "markdown",
   "metadata": {},
   "source": [
    "$E_{kin} = \\frac{p^2}{2m}$"
   ]
  },
  {
   "cell_type": "markdown",
   "metadata": {},
   "source": [
    "since $e^{\\frac{-ip^2t}{2m\\hbar}}$ and $e^{\\frac{-iE_{pot}t}{\\hbar}}$ don't commute we can't write $ e^{-iHt/\\hbar} = e^{\\frac{-ip^2t}{2m\\hbar}}e^{\\frac{-iE_{pot}t}{\\hbar}}$ "
   ]
  },
  {
   "cell_type": "markdown",
   "metadata": {},
   "source": [
    "The Lie_Trotter product formula solves this problem"
   ]
  },
  {
   "cell_type": "markdown",
   "metadata": {},
   "source": [
    "### different approaches to solve this problem\n",
    "\n",
    "1) Product formula\n",
    "(e.g. Trotter-Suzuki)\n",
    "\n",
    "2) Taylor-series method\n",
    "\n",
    "3) Quantum Signal Processing"
   ]
  },
  {
   "cell_type": "markdown",
   "metadata": {},
   "source": [
    "## Trotter formula"
   ]
  },
  {
   "cell_type": "markdown",
   "metadata": {},
   "source": [
    "product formula: simulate the sum-termns of a Hamiltonian by simulating each one separetly for a small time slice"
   ]
  },
  {
   "cell_type": "markdown",
   "metadata": {},
   "source": [
    "\"the error bounds scale with the normal of the Hamiltonian\""
   ]
  },
  {
   "cell_type": "markdown",
   "metadata": {},
   "source": [
    "suppose we can split up our Hamiltonian into multiple terms A, B and C which might be simpler than the Hamiltonian H:"
   ]
  },
  {
   "cell_type": "markdown",
   "metadata": {},
   "source": [
    "$ H = A + B + C $"
   ]
  },
  {
   "cell_type": "markdown",
   "metadata": {},
   "source": [
    "then we use the Lie product formula:"
   ]
  },
  {
   "cell_type": "markdown",
   "metadata": {},
   "source": [
    "$ U = e ^ {-i(A+B+C)t} = (e^{-iCt/r}e^{-iBt/r}e^{-iCt/r})^{r} $"
   ]
  },
  {
   "cell_type": "markdown",
   "metadata": {},
   "source": [
    "with r number of time steps"
   ]
  },
  {
   "cell_type": "markdown",
   "metadata": {},
   "source": [
    "so afterall we are simulating the sum of the operator infinitely switching between kinetic and potential energy terms of smaller size"
   ]
  },
  {
   "cell_type": "markdown",
   "metadata": {},
   "source": [
    "with higher-order formulas we can get more accurate results"
   ]
  },
  {
   "cell_type": "markdown",
   "metadata": {},
   "source": [
    "Example: a unitary describing the evolution under any k-local Pauli interactions can be decomposed into CNOT gates and single-qubit interactions"
   ]
  },
  {
   "cell_type": "markdown",
   "metadata": {},
   "source": [
    "example: evolution under 3-local Pauli"
   ]
  },
  {
   "cell_type": "markdown",
   "metadata": {},
   "source": [
    "$ e^{i\\delta Z _{1}Z _{2}Z _{3}} = e^{-i\\pi/Z_{1}X_{2}}$"
   ]
  },
  {
   "cell_type": "code",
   "execution_count": null,
   "metadata": {},
   "outputs": [],
   "source": []
  },
  {
   "cell_type": "markdown",
   "metadata": {},
   "source": [
    "## Lattice Hamiltonians"
   ]
  },
  {
   "cell_type": "markdown",
   "metadata": {},
   "source": [
    "class of hamiltonians that occurs in many physical system"
   ]
  },
  {
   "cell_type": "code",
   "execution_count": null,
   "metadata": {},
   "outputs": [],
   "source": []
  }
 ],
 "metadata": {
  "kernelspec": {
   "display_name": "Python 3",
   "language": "python",
   "name": "python3"
  },
  "language_info": {
   "codemirror_mode": {
    "name": "ipython",
    "version": 3
   },
   "file_extension": ".py",
   "mimetype": "text/x-python",
   "name": "python",
   "nbconvert_exporter": "python",
   "pygments_lexer": "ipython3",
   "version": "3.7.6"
  }
 },
 "nbformat": 4,
 "nbformat_minor": 4
}
