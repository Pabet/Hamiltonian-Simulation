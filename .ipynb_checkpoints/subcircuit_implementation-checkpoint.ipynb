{
 "cells": [
  {
   "cell_type": "markdown",
   "metadata": {},
   "source": [
    "## Implementation"
   ]
  },
  {
   "cell_type": "markdown",
   "metadata": {},
   "source": [
    "### benchmark: $e^{iH\\delta t}$ using scipy.linalg.expm"
   ]
  },
  {
   "cell_type": "code",
   "execution_count": 2,
   "metadata": {},
   "outputs": [],
   "source": [
    "import math\n",
    "import numpy as np\n",
    "from mpmath import sec, csc, cot\n",
    "from scipy.linalg import expm, sinm, cosm"
   ]
  },
  {
   "cell_type": "markdown",
   "metadata": {},
   "source": [
    "we want to implement the Himiltonian $H = Z_1 \\otimes Z_2 \\otimes Z_3 \\otimes Z_4$"
   ]
  },
  {
   "cell_type": "markdown",
   "metadata": {},
   "source": [
    "the simulated circuit is therefore represented by $e^{itZ^{\\otimes 4}}$"
   ]
  },
  {
   "cell_type": "code",
   "execution_count": 71,
   "metadata": {},
   "outputs": [
    {
     "name": "stdout",
     "output_type": "stream",
     "text": [
      "[0 0 0 1 0 0 0 0 0 0 0 0 0 0 0 0]\n",
      "[0. 0. 0. 1. 0. 0. 0. 0. 0. 0. 0. 0. 0. 0. 0. 0.]\n"
     ]
    }
   ],
   "source": [
    "q0 = np.array([1, 0])\n",
    "q1 = np.array([1, 0]) \n",
    "q2 = np.array([0, 1])\n",
    "q3 = np.array([0, 1])\n",
    "\n",
    "y0 = np.kron(np.kron(np.kron(q0, q1), q2), q3)\n",
    "print(y0)\n",
    "\n",
    "Z = np.array([[1., 0.], [0., -1.]])\n",
    "\n",
    "t = 1.086 \n",
    "\n",
    "H = np.kron(np.kron(np.kron(Z, Z), Z), Z)\n",
    "\n",
    "theoretical_result = np.abs(np.dot(expm(1j * t * H), y0))**2\n",
    "print(result)"
   ]
  },
  {
   "cell_type": "markdown",
   "metadata": {},
   "source": [
    "## Implementation using the subcircuit model"
   ]
  },
  {
   "cell_type": "markdown",
   "metadata": {},
   "source": [
    "target circuit: $U(t) = e^{itZ^{\\otimes 4}}$"
   ]
  },
  {
   "cell_type": "markdown",
   "metadata": {},
   "source": [
    "### Depth 5 Decomposition"
   ]
  },
  {
   "cell_type": "markdown",
   "metadata": {},
   "source": [
    "$U(t) = e^{it_1^b Y_2Z_3Z_4}e^{i\\phi Z_1X_2}e^{it_1^b Y_2Z_3Z_4}e^{i\\phi Z_1X_2}e^{it_1^b Y_2Z_3Z_4}$"
   ]
  },
  {
   "cell_type": "markdown",
   "metadata": {},
   "source": [
    "where $Y_2$ denotes the Pauli-Y gate acting on the 2nd qubit, ..."
   ]
  },
  {
   "cell_type": "markdown",
   "metadata": {},
   "source": [
    "decomposition of the 3-local Hamiltonian $e^{it_1^b Y_2Z_3Z_4}$ with Hamiltonian H:"
   ]
  },
  {
   "cell_type": "markdown",
   "metadata": {},
   "source": [
    "$H = Y_2 \\otimes Z_3 \\otimes Z_4$"
   ]
  },
  {
   "cell_type": "markdown",
   "metadata": {},
   "source": [
    "$Y_2 = R_{Z,2}(\\frac{\\pi}{2})HZH R_{Z,2}(\\frac{-\\pi}{2})$"
   ]
  },
  {
   "cell_type": "markdown",
   "metadata": {},
   "source": [
    "$H = R_{Z,2}(\\frac{\\pi}{2})HZ_2H R_{Z,2}(\\frac{-\\pi}{2}) \\otimes Z_3 \\otimes Z_4$"
   ]
  },
  {
   "cell_type": "markdown",
   "metadata": {},
   "source": [
    "$U(t) = e^{it_1^bR_{Z,2}(\\frac{\\pi}{2})HZ_2H R_{Z,2}(\\frac{-\\pi}{2}) \\otimes Z_3 \\otimes Z_4}e^{i\\phi Z_1X_2} e^{it_1^bR_{Z,2}(\\frac{\\pi}{2})HZ_2H R_{Z,2}(\\frac{-\\pi}{2}) \\otimes Z_3 \\otimes Z_4}e^{i\\phi Z_1X_2}e^{R_{Z,2}(\\frac{\\pi}{2})HZ_2H R_{Z,2}(\\frac{-\\pi}{2}) \\otimes Z_3 \\otimes Z_4}$"
   ]
  },
  {
   "cell_type": "markdown",
   "metadata": {},
   "source": [
    "with $X = HZH$ all gates have the form: $e^{itZ\\otimes Z}$ for arbitrary values of $t$.\n",
    "Therefore we decomposed all k-local Hamiltonians into single-qubit unitaries."
   ]
  },
  {
   "cell_type": "code",
   "execution_count": 18,
   "metadata": {},
   "outputs": [],
   "source": [
    "Z = np.array([[1., 0.], [0., -1.]])\n",
    "X = np.array([[0., 1.], [1., 0.]])\n",
    "H = (1. / math.sqrt(2)) * np.array([[1., 1.], [1., -1.]])\n",
    "\n",
    "def Rz(phi):\n",
    "    return np.array([[math.cos(phi/2), -math.sin(phi/2)], [math.sin(phi/2), math.cos(phi/2)]])\n",
    "\n",
    "def phi(t):\n",
    "    return ((1/4)*(3+2*math.sqrt(2))*t)**(1/3)\n",
    "\n",
    "def t1(t, sign, c):\n",
    "    first_component = (1/2)*math.atan(sign*math.sqrt(2)*csc(2*phi(t))*math.sqrt(math.cos(2*t)-math.cos(4*phi(t)))) + math.pi*c\n",
    "    second_component = math.atan(-2*math.tan(t)*cot(2*phi(t))) + 2*math.pi*c\n",
    "    return np.array([first_component, second_component])\n",
    "\n",
    "def t2(t, sign, c):\n",
    "    first_component = math.atan((csc(2*phi(t))*math.sqrt(math.cos(2*t)-math.cos(4*phi(t))))/(math.sqrt(2))) + 2*math.pi*c\n",
    "    second_component = math.atan(math.sin(t)*csc(2*phi(t))) + 2*math.pi*c\n",
    "    return np.array([first_component, second_component])"
   ]
  },
  {
   "cell_type": "markdown",
   "metadata": {},
   "source": [
    "### Define the initial qubits\n"
   ]
  },
  {
   "cell_type": "markdown",
   "metadata": {},
   "source": [
    "$y_0 = q_1 \\otimes q_2 \\otimes q_3 \\otimes q_4$ "
   ]
  },
  {
   "cell_type": "code",
   "execution_count": 64,
   "metadata": {},
   "outputs": [],
   "source": [
    "t = 0.00005\n",
    "sign = 1\n",
    "c = 1\n",
    "\n",
    "q1 = np.array([1, 0])\n",
    "q2 = np.array([1, 0]) \n",
    "q3 = np.array([0, 1])\n",
    "q4 = np.array([0, 1])\n",
    "\n",
    "y0 = np.kron(np.kron(np.kron(q1, q2), q3), q4)"
   ]
  },
  {
   "cell_type": "markdown",
   "metadata": {},
   "source": [
    "$t_1^a = t1[0]$ and $t_1^b = t1[1]$"
   ]
  },
  {
   "cell_type": "markdown",
   "metadata": {},
   "source": [
    "$t_2^a = t2[0]$ and $t_2^b = t2[1]$"
   ]
  },
  {
   "cell_type": "markdown",
   "metadata": {},
   "source": [
    "### Apply $e^{it_1^bR_{Z,1}(\\frac{\\pi}{2})HZH R_{Z,1}(\\frac{-\\pi}{2}) \\otimes Z_3 \\otimes Z_4}$ to q2-q4"
   ]
  },
  {
   "cell_type": "code",
   "execution_count": 65,
   "metadata": {},
   "outputs": [
    {
     "name": "stdout",
     "output_type": "stream",
     "text": [
      "[0. 0. 0. 1. 0. 0. 0. 0. 0. 0. 0. 0. 0. 0. 0. 0.]\n"
     ]
    }
   ],
   "source": [
    "decomp = Rz(math.pi/2) * H * Z * H * Rz(-math.pi/2) \n",
    "\n",
    "circuit = np.kron(np.kron(np.kron(np.identity(2), decomp), Z), Z)\n",
    "\n",
    "# apply the circuit\n",
    "y0_1 = np.dot(expm(1j * t1(t, sign, c)[1] * circuit), y0)\n",
    "\n",
    "print(np.abs(y0_1)**2)"
   ]
  },
  {
   "cell_type": "markdown",
   "metadata": {},
   "source": [
    "### Apply $e^{i\\phi Z_1X_2}$ to q1-q2"
   ]
  },
  {
   "cell_type": "code",
   "execution_count": 66,
   "metadata": {},
   "outputs": [
    {
     "name": "stdout",
     "output_type": "stream",
     "text": [
      "[0.         0.         0.         0.82535417 0.         0.\n",
      " 0.         0.17464583 0.         0.         0.         0.\n",
      " 0.         0.         0.         0.        ]\n"
     ]
    }
   ],
   "source": [
    "circuit = np.kron(np.kron(np.kron(Z, X), np.identity(2)), np.identity(2))\n",
    "\n",
    "y0_2 = np.dot(expm(1j * phi(t) * circuit), y0_1)\n",
    "\n",
    "print(np.abs(res)**2)"
   ]
  },
  {
   "cell_type": "markdown",
   "metadata": {},
   "source": [
    "### Apply $e^{it_2^bR_{Z,1}(\\frac{\\pi}{2})HZH R_{Z,1}(\\frac{-\\pi}{2}) \\otimes Z_3 \\otimes Z_4}$ to q2-q4"
   ]
  },
  {
   "cell_type": "code",
   "execution_count": 67,
   "metadata": {},
   "outputs": [
    {
     "name": "stdout",
     "output_type": "stream",
     "text": [
      "[0.         0.         0.         0.99825663 0.         0.\n",
      " 0.         0.00174337 0.         0.         0.         0.\n",
      " 0.         0.         0.         0.        ]\n"
     ]
    }
   ],
   "source": [
    "decomp = Rz(math.pi/2) * H * Z * H * Rz(-math.pi/2) \n",
    "\n",
    "circuit = np.kron(np.kron(np.kron(np.identity(2), decomp), Z), Z)\n",
    "\n",
    "y0_3 = np.dot(expm(1j * t2(t, sign, c)[1] * circuit), y0_2)\n",
    "\n",
    "print(np.abs(y0_3)**2)"
   ]
  },
  {
   "cell_type": "markdown",
   "metadata": {},
   "source": [
    "### Apply $e^{i\\phi Z_1X_2}$ to q1-q2"
   ]
  },
  {
   "cell_type": "code",
   "execution_count": 68,
   "metadata": {},
   "outputs": [
    {
     "name": "stdout",
     "output_type": "stream",
     "text": [
      "[0.00000000e+00 0.00000000e+00 0.00000000e+00 1.00000000e+00\n",
      " 0.00000000e+00 0.00000000e+00 0.00000000e+00 1.56249961e-10\n",
      " 0.00000000e+00 0.00000000e+00 0.00000000e+00 0.00000000e+00\n",
      " 0.00000000e+00 0.00000000e+00 0.00000000e+00 0.00000000e+00]\n"
     ]
    }
   ],
   "source": [
    "circuit = np.kron(np.kron(np.kron(Z, X), np.identity(2)), np.identity(2))\n",
    "\n",
    "y0_4 = np.dot(expm(1j * phi(t) * circuit), y0_3)\n",
    "\n",
    "print(np.abs(y0_4)**2)"
   ]
  },
  {
   "cell_type": "markdown",
   "metadata": {},
   "source": [
    "### Apply $e^{it_1^bR_{Z,1}(\\frac{\\pi}{2})HZH R_{Z,1}(\\frac{-\\pi}{2}) \\otimes Z_3 \\otimes Z_4}$ to q2-q4"
   ]
  },
  {
   "cell_type": "code",
   "execution_count": 69,
   "metadata": {},
   "outputs": [
    {
     "name": "stdout",
     "output_type": "stream",
     "text": [
      "[0.00000000e+00 0.00000000e+00 0.00000000e+00 1.00000000e+00\n",
      " 0.00000000e+00 0.00000000e+00 0.00000000e+00 1.56249961e-10\n",
      " 0.00000000e+00 0.00000000e+00 0.00000000e+00 0.00000000e+00\n",
      " 0.00000000e+00 0.00000000e+00 0.00000000e+00 0.00000000e+00]\n"
     ]
    }
   ],
   "source": [
    "decomp = Rz(math.pi/2) * H * Z * H * Rz(-math.pi/2) \n",
    "\n",
    "circuit = np.kron(np.kron(np.kron(np.identity(2), decomp), Z), Z)\n",
    "\n",
    "y0_5 = np.dot(expm(1j * t1(t, sign, c)[1] * circuit), y0_4)\n",
    "\n",
    "practical_result = np.abs(y0_5)**2\n",
    "print(np.abs(y0_5)**2)"
   ]
  },
  {
   "cell_type": "code",
   "execution_count": 72,
   "metadata": {},
   "outputs": [
    {
     "name": "stdout",
     "output_type": "stream",
     "text": [
      "[0.00000000e+00+0.00000000e+00j 0.00000000e+00+0.00000000e+00j\n",
      " 0.00000000e+00+0.00000000e+00j 1.00044789e+00+9.99999900e-01j\n",
      " 0.00000000e+00+0.00000000e+00j 0.00000000e+00+0.00000000e+00j\n",
      " 0.00000000e+00+0.00000000e+00j 2.16944659e-18+1.24999985e-05j\n",
      " 0.00000000e+00+0.00000000e+00j 0.00000000e+00+0.00000000e+00j\n",
      " 0.00000000e+00+0.00000000e+00j 0.00000000e+00+0.00000000e+00j\n",
      " 0.00000000e+00+0.00000000e+00j 0.00000000e+00+0.00000000e+00j\n",
      " 0.00000000e+00+0.00000000e+00j 0.00000000e+00+0.00000000e+00j]\n"
     ]
    }
   ],
   "source": [
    "print(result - y0_5)"
   ]
  },
  {
   "cell_type": "code",
   "execution_count": null,
   "metadata": {},
   "outputs": [],
   "source": []
  }
 ],
 "metadata": {
  "kernelspec": {
   "display_name": "Python 3",
   "language": "python",
   "name": "python3"
  },
  "language_info": {
   "codemirror_mode": {
    "name": "ipython",
    "version": 3
   },
   "file_extension": ".py",
   "mimetype": "text/x-python",
   "name": "python",
   "nbconvert_exporter": "python",
   "pygments_lexer": "ipython3",
   "version": "3.7.6"
  }
 },
 "nbformat": 4,
 "nbformat_minor": 4
}
