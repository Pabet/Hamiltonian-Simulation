{
 "cells": [
  {
   "cell_type": "markdown",
   "metadata": {},
   "source": [
    "# Comparison between theoretical and subcircuit solution for different Trotter-steps"
   ]
  },
  {
   "cell_type": "code",
   "execution_count": 4,
   "metadata": {},
   "outputs": [],
   "source": [
    "import numpy as np\n",
    "import pylab\n",
    "import matplotlib.pyplot as plt\n",
    "from src.subcircuit import *"
   ]
  },
  {
   "cell_type": "markdown",
   "metadata": {},
   "source": [
    "## Theoretical solution"
   ]
  },
  {
   "cell_type": "code",
   "execution_count": 5,
   "metadata": {},
   "outputs": [],
   "source": [
    "q0 = np.array([1, 0])\n",
    "q1 = np.array([1, 0]) \n",
    "q2 = np.array([0, 1])\n",
    "q3 = np.array([0, 1])\n",
    "\n",
    "y0 = np.kron(np.kron(np.kron(q0, q1), q2), q3)\n",
    "\n",
    "t = 1.086 \n",
    "\n",
    "sign = 1\n",
    "\n",
    "c = 1\n",
    "\n",
    "H = np.kron(np.kron(np.kron(Z, Z), Z), Z)\n",
    "\n",
    "theoretical_result = np.abs(np.dot(expm(1j * t * H), y0))**2"
   ]
  },
  {
   "cell_type": "markdown",
   "metadata": {},
   "source": [
    "## Subcircuit solutions"
   ]
  },
  {
   "cell_type": "code",
   "execution_count": 6,
   "metadata": {},
   "outputs": [],
   "source": [
    "delta_t = np.linspace(0.00001, 0.1, 100)\n",
    "\n",
    "errors = []\n",
    "\n",
    "for ti in delta_t:\n",
    "    practical_result = depth_5_decomposition(ti, sign, c, y0)\n",
    "    real = np.abs(practical_result)**2\n",
    "    errors.append(theoretical_result - real) "
   ]
  },
  {
   "cell_type": "code",
   "execution_count": 7,
   "metadata": {},
   "outputs": [
    {
     "data": {
      "image/png": "[encoded data removed]",
      "text/plain": [
       "<Figure size 432x288 with 1 Axes>"
      ]
     },
     "metadata": {
      "needs_background": "light"
     },
     "output_type": "display_data"
    }
   ],
   "source": [
    "delta_t = np.linspace(0.00001, 1, 100)\n",
    "fig = plt.figure()\n",
    "ax = fig.add_subplot(2,1,1)\n",
    "plt.plot(delta_t, errors, color='blue', lw=2)\n",
    "plt.yscale('log')\n",
    "plt.xscale('log')\n",
    "ax.set_title(\"Subcircuit decompostion error\");\n",
    "ax.set_xlabel(\"Trotter step: delta\")\n",
    "ax.set_ylabel(\"Error\");\n",
    "#plt.savefig('error',  dpi=200)\n",
    "plt.show()"
   ]
  },
  {
   "cell_type": "code",
   "execution_count": null,
   "metadata": {},
   "outputs": [],
   "source": []
  }
 ],
 "metadata": {
  "kernelspec": {
   "display_name": "Python 3",
   "language": "python",
   "name": "python3"
  },
  "language_info": {
   "codemirror_mode": {
    "name": "ipython",
    "version": 3
   },
   "file_extension": ".py",
   "mimetype": "text/x-python",
   "name": "python",
   "nbconvert_exporter": "python",
   "pygments_lexer": "ipython3",
   "version": "3.7.6"
  }
 },
 "nbformat": 4,
 "nbformat_minor": 4
}
