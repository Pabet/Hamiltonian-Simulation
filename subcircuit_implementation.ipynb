{
 "cells": [
  {
   "cell_type": "markdown",
   "metadata": {},
   "source": [
    "## Implementation"
   ]
  },
  {
   "cell_type": "markdown",
   "metadata": {},
   "source": [
    "### benchmark: $e^{iH\\delta t}$ using scipy.linalg.expm"
   ]
  },
  {
   "cell_type": "code",
   "execution_count": 1,
   "metadata": {},
   "outputs": [],
   "source": [
    "import math\n",
    "import numpy as np\n",
    "from mpmath import sec, csc, cot\n",
    "from scipy.linalg import expm, sinm, cosm"
   ]
  },
  {
   "cell_type": "markdown",
   "metadata": {},
   "source": [
    "we want to implement the Himiltonian $H = Z_1 \\otimes Z_2 \\otimes Z_3 \\otimes Z_4$"
   ]
  },
  {
   "cell_type": "markdown",
   "metadata": {},
   "source": [
    "the simulated circuit is therefore represented by $e^{itZ^{\\otimes 4}}$"
   ]
  },
  {
   "cell_type": "code",
   "execution_count": 49,
   "metadata": {},
   "outputs": [
    {
     "name": "stdout",
     "output_type": "stream",
     "text": [
      "[0 0 0 1 0 0 0 0 0 0 0 0 0 0 0 0]\n",
      "[0. 0. 0. 1. 0. 0. 0. 0. 0. 0. 0. 0. 0. 0. 0. 0.]\n"
     ]
    }
   ],
   "source": [
    "q0 = np.array([1, 0])\n",
    "q1 = np.array([1, 0]) \n",
    "q2 = np.array([0, 1])\n",
    "q3 = np.array([0, 1])\n",
    "\n",
    "y0 = np.kron(np.kron(np.kron(q0, q1), q2), q3)\n",
    "print(y0)\n",
    "\n",
    "Z = np.array([[1., 0.], [0., -1.]])\n",
    "\n",
    "t = 1.086 \n",
    "\n",
    "H = np.kron(np.kron(np.kron(Z, Z), Z), Z)\n",
    "\n",
    "result = np.abs(np.dot(expm(1j * t * H), y0))**2\n",
    "print(result)"
   ]
  },
  {
   "cell_type": "markdown",
   "metadata": {},
   "source": [
    "## Implementation using the subcircuit model"
   ]
  },
  {
   "cell_type": "markdown",
   "metadata": {},
   "source": [
    "target circuit: $U(t) = e^{itZ^{\\otimes 4}}$"
   ]
  },
  {
   "cell_type": "markdown",
   "metadata": {},
   "source": [
    "### Depth 5 Decomposition"
   ]
  },
  {
   "cell_type": "markdown",
   "metadata": {},
   "source": [
    "$U(t) = e^{it_1^b Y_2Z_3Z_4}e^{i\\phi Z_1X_2}e^{it_1^b Y_2Z_3Z_4}e^{i\\phi Z_1X_2}e^{it_1^b Y_2Z_3Z_4}$"
   ]
  },
  {
   "cell_type": "markdown",
   "metadata": {},
   "source": [
    "where $Y_2$ denotes the Pauli-Y gate acting on the 2nd qubit, ..."
   ]
  },
  {
   "cell_type": "markdown",
   "metadata": {},
   "source": [
    "decomposition of the 3-local Hamiltonian $e^{it_1^b Y_2Z_3Z_4}$ with Hamiltonian H:"
   ]
  },
  {
   "cell_type": "markdown",
   "metadata": {},
   "source": [
    "$H = Y_2 \\otimes Z_3 \\otimes Z_4$"
   ]
  },
  {
   "cell_type": "markdown",
   "metadata": {},
   "source": [
    "$Y_1 = R_{Z,1}(\\frac{\\pi}{2})HZH R_{Z,1}(\\frac{-\\pi}{2})$"
   ]
  },
  {
   "cell_type": "markdown",
   "metadata": {},
   "source": [
    "$H = R_{Z,1}(\\frac{\\pi}{2})HZH R_{Z,1}(\\frac{-\\pi}{2}) \\otimes Z_3 \\otimes Z_4$"
   ]
  },
  {
   "cell_type": "markdown",
   "metadata": {},
   "source": [
    "$U(t) = e^{it_1^bR_{Z,1}(\\frac{\\pi}{2})HZH R_{Z,1}(\\frac{-\\pi}{2}) \\otimes Z_3 \\otimes Z_4}e^{i\\phi Z_1X_2} e^{it_1^bR_{Z,1}(\\frac{\\pi}{2})HZH R_{Z,1}(\\frac{-\\pi}{2}) \\otimes Z_3 \\otimes Z_4}e^{i\\phi Z_1X_2}R_{Z,1}(\\frac{\\pi}{2})HZH R_{Z,1}(\\frac{-\\pi}{2}) \\otimes Z_3 \\otimes Z_4$"
   ]
  },
  {
   "cell_type": "markdown",
   "metadata": {},
   "source": [
    "with $X = HZH$ all gates have the form: $e^{itZ\\otimes Z}$ for arbitrary values of $t$.\n",
    "Therefore we decomposed all k-local Hamiltonians into single-qubit unitaries."
   ]
  },
  {
   "cell_type": "code",
   "execution_count": 13,
   "metadata": {},
   "outputs": [],
   "source": [
    "Z = np.array([[1., 0.], [0., -1.]])\n",
    "X = np.array([[0., 1.], [1., 0.]])\n",
    "H = (1. / math.sqrt(2)) * np.array([[1., 1.], [1., -1.]])\n",
    "\n",
    "def Rz(phi):\n",
    "    return np.array([[math.cos(phi/2), -math.sin(phi/2)], [math.sin(phi/2), math.cos(phi/2)]])\n",
    "\n",
    "def phi(t):\n",
    "    return ((1/4)*(3+2*math.sqrt(2))*t)**(1/3)\n",
    "\n",
    "def t1(t, sign):\n",
    "    return (1/2)*math.atan(sign*math.sqrt(2)*csc(2*phi(t))*math.sqrt(cos(2*t)-cos(4*phi(t))))"
   ]
  },
  {
   "cell_type": "code",
   "execution_count": 11,
   "metadata": {},
   "outputs": [
    {
     "name": "stdout",
     "output_type": "stream",
     "text": [
      "3.141592653589793\n"
     ]
    }
   ],
   "source": []
  },
  {
   "cell_type": "code",
   "execution_count": null,
   "metadata": {},
   "outputs": [],
   "source": []
  }
 ],
 "metadata": {
  "kernelspec": {
   "display_name": "Python 3",
   "language": "python",
   "name": "python3"
  },
  "language_info": {
   "codemirror_mode": {
    "name": "ipython",
    "version": 3
   },
   "file_extension": ".py",
   "mimetype": "text/x-python",
   "name": "python",
   "nbconvert_exporter": "python",
   "pygments_lexer": "ipython3",
   "version": "3.7.6"
  }
 },
 "nbformat": 4,
 "nbformat_minor": 4
}
