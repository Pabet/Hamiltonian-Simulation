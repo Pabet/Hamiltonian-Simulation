{
 "cells": [
  {
   "cell_type": "markdown",
   "metadata": {},
   "source": [
    "## Implementation"
   ]
  },
  {
   "cell_type": "markdown",
   "metadata": {},
   "source": [
    "### benchmark: $e^{iH\\delta t}$ using scipy.linalg.expm"
   ]
  },
  {
   "cell_type": "code",
   "execution_count": 1,
   "metadata": {},
   "outputs": [],
   "source": [
    "import numpy as np\n",
    "from src.subcircuit import *"
   ]
  },
  {
   "cell_type": "markdown",
   "metadata": {},
   "source": [
    "we want to implement the Himiltonian $H = Z_1 \\otimes Z_2 \\otimes Z_3 \\otimes Z_4$"
   ]
  },
  {
   "cell_type": "markdown",
   "metadata": {},
   "source": [
    "the simulated circuit is therefore represented by $e^{itZ^{\\otimes 4}}$"
   ]
  },
  {
   "cell_type": "code",
   "execution_count": 2,
   "metadata": {},
   "outputs": [
    {
     "name": "stdout",
     "output_type": "stream",
     "text": [
      "[0. 0. 0. 1. 0. 0. 0. 0. 0. 0. 0. 0. 0. 0. 0. 0.]\n"
     ]
    }
   ],
   "source": [
    "q0 = np.array([1, 0])\n",
    "q1 = np.array([1, 0]) \n",
    "q2 = np.array([0, 1])\n",
    "q3 = np.array([0, 1])\n",
    "\n",
    "y0 = np.kron(np.kron(np.kron(q0, q1), q2), q3)\n",
    "\n",
    "t = 1.086 \n",
    "\n",
    "H = np.kron(np.kron(np.kron(Z, Z), Z), Z)\n",
    "\n",
    "theoretical_result = np.abs(np.dot(expm(1j * t * H), y0))**2\n",
    "print(theoretical_result)"
   ]
  },
  {
   "cell_type": "markdown",
   "metadata": {},
   "source": [
    "## Implementation using the subcircuit model"
   ]
  },
  {
   "cell_type": "markdown",
   "metadata": {},
   "source": [
    "target circuit: $U(t) = e^{itZ^{\\otimes 4}}$"
   ]
  },
  {
   "cell_type": "markdown",
   "metadata": {},
   "source": [
    "### Depth 5 Decomposition"
   ]
  },
  {
   "cell_type": "markdown",
   "metadata": {},
   "source": [
    "$U(t) = e^{it_1^b Y_2Z_3Z_4}e^{i\\phi Z_1X_2}e^{it_1^b Y_2Z_3Z_4}e^{i\\phi Z_1X_2}e^{it_1^b Y_2Z_3Z_4}$"
   ]
  },
  {
   "cell_type": "markdown",
   "metadata": {},
   "source": [
    "where $Y_2$ denotes the Pauli-Y gate acting on the 2nd qubit, ..."
   ]
  },
  {
   "cell_type": "markdown",
   "metadata": {},
   "source": [
    "decomposition of the 3-local Hamiltonian $e^{it_1^b Y_2Z_3Z_4}$ with Hamiltonian H:"
   ]
  },
  {
   "cell_type": "markdown",
   "metadata": {},
   "source": [
    "$H = Y_2 \\otimes Z_3 \\otimes Z_4$"
   ]
  },
  {
   "cell_type": "markdown",
   "metadata": {},
   "source": [
    "$Y_2 = R_{Z,2}(\\frac{\\pi}{2})HZH R_{Z,2}(\\frac{-\\pi}{2})$"
   ]
  },
  {
   "cell_type": "markdown",
   "metadata": {},
   "source": [
    "$H = R_{Z,2}(\\frac{\\pi}{2})HZ_2H R_{Z,2}(\\frac{-\\pi}{2}) \\otimes Z_3 \\otimes Z_4$"
   ]
  },
  {
   "cell_type": "markdown",
   "metadata": {},
   "source": [
    "$U(t) = e^{it_1^bR_{Z,2}(\\frac{\\pi}{2})HZ_2H R_{Z,2}(\\frac{-\\pi}{2}) \\otimes Z_3 \\otimes Z_4}e^{i\\phi Z_1X_2} e^{it_1^bR_{Z,2}(\\frac{\\pi}{2})HZ_2H R_{Z,2}(\\frac{-\\pi}{2}) \\otimes Z_3 \\otimes Z_4}e^{i\\phi Z_1X_2}e^{R_{Z,2}(\\frac{\\pi}{2})HZ_2H R_{Z,2}(\\frac{-\\pi}{2}) \\otimes Z_3 \\otimes Z_4}$"
   ]
  },
  {
   "cell_type": "markdown",
   "metadata": {},
   "source": [
    "with $X = HZH$ all gates have the form: $e^{itZ\\otimes Z}$ for arbitrary values of $t$.\n",
    "Therefore we decomposed all k-local Hamiltonians into single-qubit unitaries."
   ]
  },
  {
   "cell_type": "markdown",
   "metadata": {},
   "source": [
    "### Define the initial qubits\n"
   ]
  },
  {
   "cell_type": "markdown",
   "metadata": {},
   "source": [
    "$y_0 = q_1 \\otimes q_2 \\otimes q_3 \\otimes q_4$ "
   ]
  },
  {
   "cell_type": "code",
   "execution_count": 3,
   "metadata": {},
   "outputs": [],
   "source": [
    "t = 0.00005\n",
    "sign = 1\n",
    "c = 1\n",
    "\n",
    "q1 = np.array([1, 0])\n",
    "q2 = np.array([1, 0]) \n",
    "q3 = np.array([0, 1])\n",
    "q4 = np.array([0, 1])\n",
    "\n",
    "y0 = np.kron(np.kron(np.kron(q1, q2), q3), q4)"
   ]
  },
  {
   "cell_type": "markdown",
   "metadata": {},
   "source": [
    "$t_1^a = t1[0]$ and $t_1^b = t1[1]$"
   ]
  },
  {
   "cell_type": "markdown",
   "metadata": {},
   "source": [
    "$t_2^a = t2[0]$ and $t_2^b = t2[1]$"
   ]
  },
  {
   "cell_type": "markdown",
   "metadata": {},
   "source": [
    "### Apply $e^{it_1^bR_{Z,1}(\\frac{\\pi}{2})HZH R_{Z,1}(\\frac{-\\pi}{2}) \\otimes Z_3 \\otimes Z_4}$ to q2-q4"
   ]
  },
  {
   "cell_type": "code",
   "execution_count": 4,
   "metadata": {},
   "outputs": [
    {
     "name": "stdout",
     "output_type": "stream",
     "text": [
      "[0. 0. 0. 1. 0. 0. 0. 0. 0. 0. 0. 0. 0. 0. 0. 0.]\n"
     ]
    }
   ],
   "source": [
    "y0_1 = yzz_t1_circuit(t, sign, c, y0)\n",
    "print(np.abs(y0_1)**2)"
   ]
  },
  {
   "cell_type": "markdown",
   "metadata": {},
   "source": [
    "### Apply $e^{i\\phi Z_1X_2}$ to q1-q2"
   ]
  },
  {
   "cell_type": "code",
   "execution_count": 5,
   "metadata": {},
   "outputs": [
    {
     "name": "stdout",
     "output_type": "stream",
     "text": [
      "[0.         0.         0.         0.99825663 0.         0.\n",
      " 0.         0.00174337 0.         0.         0.         0.\n",
      " 0.         0.         0.         0.        ]\n"
     ]
    }
   ],
   "source": [
    "y0_2 = zx_circuit(t, y0_1)\n",
    "print(np.abs(y0_2)**2)"
   ]
  },
  {
   "cell_type": "markdown",
   "metadata": {},
   "source": [
    "### Apply $e^{it_2^bR_{Z,1}(\\frac{\\pi}{2})HZH R_{Z,1}(\\frac{-\\pi}{2}) \\otimes Z_3 \\otimes Z_4}$ to q2-q4"
   ]
  },
  {
   "cell_type": "code",
   "execution_count": 6,
   "metadata": {},
   "outputs": [
    {
     "name": "stdout",
     "output_type": "stream",
     "text": [
      "[0.         0.         0.         0.99825663 0.         0.\n",
      " 0.         0.00174337 0.         0.         0.         0.\n",
      " 0.         0.         0.         0.        ]\n"
     ]
    }
   ],
   "source": [
    "y0_3 = yzz_t2_circuit(t, sign, c, y0_2)\n",
    "\n",
    "print(np.abs(y0_3)**2)"
   ]
  },
  {
   "cell_type": "markdown",
   "metadata": {},
   "source": [
    "### Apply $e^{i\\phi Z_1X_2}$ to q1-q2"
   ]
  },
  {
   "cell_type": "code",
   "execution_count": 7,
   "metadata": {},
   "outputs": [
    {
     "name": "stdout",
     "output_type": "stream",
     "text": [
      "[0.00000000e+00 0.00000000e+00 0.00000000e+00 1.00000000e+00\n",
      " 0.00000000e+00 0.00000000e+00 0.00000000e+00 1.56249961e-10\n",
      " 0.00000000e+00 0.00000000e+00 0.00000000e+00 0.00000000e+00\n",
      " 0.00000000e+00 0.00000000e+00 0.00000000e+00 0.00000000e+00]\n"
     ]
    }
   ],
   "source": [
    "y0_4 = zx_circuit(t, y0_3)\n",
    "\n",
    "print(np.abs(y0_4)**2)"
   ]
  },
  {
   "cell_type": "markdown",
   "metadata": {},
   "source": [
    "### Apply $e^{it_1^bR_{Z,1}(\\frac{\\pi}{2})HZH R_{Z,1}(\\frac{-\\pi}{2}) \\otimes Z_3 \\otimes Z_4}$ to q2-q4"
   ]
  },
  {
   "cell_type": "code",
   "execution_count": 8,
   "metadata": {},
   "outputs": [
    {
     "name": "stdout",
     "output_type": "stream",
     "text": [
      "[0.00000000e+00 0.00000000e+00 0.00000000e+00 1.00000000e+00\n",
      " 0.00000000e+00 0.00000000e+00 0.00000000e+00 1.56249961e-10\n",
      " 0.00000000e+00 0.00000000e+00 0.00000000e+00 0.00000000e+00\n",
      " 0.00000000e+00 0.00000000e+00 0.00000000e+00 0.00000000e+00]\n"
     ]
    }
   ],
   "source": [
    "y0_5 = yzz_t1_circuit(t, sign, c, y0_4)\n",
    "\n",
    "practical_result = np.abs(y0_5)**2\n",
    "print(practical_result)"
   ]
  },
  {
   "cell_type": "code",
   "execution_count": 9,
   "metadata": {},
   "outputs": [
    {
     "name": "stdout",
     "output_type": "stream",
     "text": [
      "[ 0.00000000e+00  0.00000000e+00  0.00000000e+00  1.56249458e-10\n",
      "  0.00000000e+00  0.00000000e+00  0.00000000e+00 -1.56249961e-10\n",
      "  0.00000000e+00  0.00000000e+00  0.00000000e+00  0.00000000e+00\n",
      "  0.00000000e+00  0.00000000e+00  0.00000000e+00  0.00000000e+00]\n"
     ]
    }
   ],
   "source": [
    "print(theoretical_result - practical_result)"
   ]
  },
  {
   "cell_type": "code",
   "execution_count": null,
   "metadata": {},
   "outputs": [],
   "source": []
  }
 ],
 "metadata": {
  "kernelspec": {
   "display_name": "Python 3",
   "language": "python",
   "name": "python3"
  },
  "language_info": {
   "codemirror_mode": {
    "name": "ipython",
    "version": 3
   },
   "file_extension": ".py",
   "mimetype": "text/x-python",
   "name": "python",
   "nbconvert_exporter": "python",
   "pygments_lexer": "ipython3",
   "version": "3.7.6"
  }
 },
 "nbformat": 4,
 "nbformat_minor": 4
}
